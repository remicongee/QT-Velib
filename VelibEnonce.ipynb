{
 "cells": [
  {
   "cell_type": "markdown",
   "metadata": {},
   "source": [
    "<img src=\"https://www.telecom-paristech.fr/fileadmin/documents/images/logos/TelecomParisTech/TELECOM_PARISTECH_IMT_grise_RVB.png\n",
    "\"  WIDTH=100 HEIGHT=100> <img src=\"./smovengo.jpg\" width=220 height=100>\n",
    "\n",
    "\n",
    "\n",
    "# Velib à 5 stations\n",
    "## SPEIT 2018\n",
    "### Simulation en Python\n",
    "\n",
    "\n",
    "----------------------------"
   ]
  },
  {
   "cell_type": "markdown",
   "metadata": {},
   "source": [
    "## Initialisation"
   ]
  },
  {
   "cell_type": "code",
   "execution_count": 1,
   "metadata": {},
   "outputs": [],
   "source": [
    "from numpy import *\n",
    "import numpy as np"
   ]
  },
  {
   "cell_type": "markdown",
   "metadata": {},
   "source": [
    "+ Matrice de routage"
   ]
  },
  {
   "cell_type": "code",
   "execution_count": 2,
   "metadata": {},
   "outputs": [
    {
     "name": "stdout",
     "output_type": "stream",
     "text": [
      "[[0.   0.2  0.3  0.2  0.3 ]\n",
      " [0.2  0.   0.3  0.2  0.3 ]\n",
      " [0.2  0.25 0.   0.25 0.3 ]\n",
      " [0.15 0.2  0.3  0.   0.35]\n",
      " [0.2  0.25 0.35 0.2  0.  ]]\n"
     ]
    }
   ],
   "source": [
    "R=np.array([[0,0.2,0.3,0.2,0.3],[0.2,0.,0.3,0.2,0.3],[0.2,0.25,0.,0.25,0.3],[0.15,0.2,0.3,0.,0.35],[0.2,0.25,0.35,0.2,0.]])\n",
    "print(R)"
   ]
  },
  {
   "cell_type": "markdown",
   "metadata": {},
   "source": [
    "+ Temps de traversées en minutes"
   ]
  },
  {
   "cell_type": "code",
   "execution_count": 3,
   "metadata": {},
   "outputs": [
    {
     "name": "stdout",
     "output_type": "stream",
     "text": [
      "[[0. 3. 5. 7. 7.]\n",
      " [2. 0. 2. 5. 5.]\n",
      " [4. 2. 0. 3. 3.]\n",
      " [8. 6. 4. 0. 2.]\n",
      " [7. 7. 5. 2. 0.]]\n"
     ]
    }
   ],
   "source": [
    "T=np.array([[0,3.,5.,7.,7.],[2.,0,2.,5.,5.],[4.,2.,0,3.,3.],[8.,6.,4.,0,2.],[7.,7.,5.,2.,0]])\n",
    "print(T)"
   ]
  },
  {
   "cell_type": "code",
   "execution_count": 4,
   "metadata": {},
   "outputs": [
    {
     "name": "stdout",
     "output_type": "stream",
     "text": [
      "[[0.         0.33333333 0.2        0.14285714 0.14285714]\n",
      " [0.5        0.         0.5        0.2        0.2       ]\n",
      " [0.25       0.5        0.         0.33333333 0.33333333]\n",
      " [0.125      0.16666667 0.25       0.         0.5       ]\n",
      " [0.14285714 0.14285714 0.2        0.5        0.        ]]\n"
     ]
    }
   ],
   "source": [
    "Mu = np.divide(1, T, where=T!=0)\n",
    "print(Mu)"
   ]
  },
  {
   "cell_type": "markdown",
   "metadata": {},
   "source": [
    "+ Taux d'arrivées des clients dans chaque station en clients/minutes"
   ]
  },
  {
   "cell_type": "code",
   "execution_count": 5,
   "metadata": {},
   "outputs": [
    {
     "name": "stdout",
     "output_type": "stream",
     "text": [
      "[0.04666667 0.06166667 0.09166667 0.05833333 0.07666667]\n"
     ]
    }
   ],
   "source": [
    "lambda_=np.array([2.8,3.7,5.5,3.5,4.6])/60.\n",
    "print(lambda_)"
   ]
  },
  {
   "cell_type": "markdown",
   "metadata": {},
   "source": [
    "## Représentation de l'espace d'états\n",
    "Il y a les vélos disponibles en stations que l'on  noté $N_{ii}$ et les vélos en cours de transition de la station $i$ vers la station $j$ dont on a noté le nombre par $N_{ij}$.\n",
    "\n",
    "** La commande np.random.choice **\n",
    "\n",
    "Pour se simplifier la vie, on doit, plusieurs fois, faire appel à la commande \n",
    "\n",
    "```python\n",
    "np.random.choice(valeurs,p=proba)\n",
    "```\n",
    "qui retourne un tirage dans _valeurs_ selon le vecteur de probabillités _proba_\n",
    "Ainsi\n",
    "```python\n",
    "np.random.choice(3,p=[0.2,0.5,0.3])\n",
    "```\n",
    "renvoie $0$ avec probabilité $0.2$, renvoie $1$ avec probabilité $0.5$, etc."
   ]
  },
  {
   "cell_type": "code",
   "execution_count": 6,
   "metadata": {},
   "outputs": [
    {
     "name": "stdout",
     "output_type": "stream",
     "text": [
      "4\n",
      "3\n",
      "2\n",
      "4\n",
      "1\n"
     ]
    }
   ],
   "source": [
    "for i in np.arange(5):\n",
    "    print(np.random.choice(5,p=R[0]))"
   ]
  },
  {
   "cell_type": "markdown",
   "metadata": {},
   "source": [
    "Il en découle qu'il est plus simple de représenter un état sous forme d'un vecteur de longueur 25 $E=(E_i,0\\le i \\le 24)$, version dépliée de la matrice 5x5 $N=(N_{i,j}, 0\\le i,j\\le 4)$. Ce qui veut dire que\n",
    "\\begin{align*}\n",
    "N_{ii} & \\Longleftrightarrow E[6*i]\\\\\n",
    "N_{ij} & \\Longleftrightarrow E[5*i+j]\n",
    "\\end{align*}"
   ]
  },
  {
   "cell_type": "markdown",
   "metadata": {},
   "source": [
    "### Fonctions\n",
    "On fera trois fonctions\n",
    "\n",
    "```python\n",
    "def transition(E):\n",
    "    ...\n",
    "    return Tpos\n",
    "```\n",
    "Cette fonction _transition_ prend un état E et renvoie le vecteur des transitions possibles Tpos.\n",
    "Une façon de représenter les transitions possibles est la suivante :\n",
    "+ Tpos[6*i] vaut le taux de départ de la station i s'il y reste au moins un vélo\n",
    "+ Tpos[5*i+j] vaut le taux de transition de $N$-> $N_{ij}-1,\\ N_j+1$\n",
    "\n",
    "```python\n",
    "def saut(E):\n",
    "    ...\n",
    "    return tempsSejour,caseADecrementer,caseAIncrementer\n",
    "```\n",
    "Cette fonction _saut_ fait appel à la précédente et retourne, le temps de séjour dans l'état E, l'indice de l'élément de E qui va être diminué de 1 (noté *depart*) et l'indice de E qui va être augmenté de 1 (noté *arrivee*)\n",
    "\n",
    "```python\n",
    "def trajectoire(Einitial,horizon)\n",
    "    ...\n",
    "    return Tvide/horizon\n",
    "```\n",
    "\n",
    "Cette fonction simule une trajectoire partant de l'état *Einitial*, jusqu'au temps *horizon*.\n",
    "Elle retourne le vecteur *Tvide* de longueur 5 qui contient le pourcentage du temps pendant lequel chaque station est vide."
   ]
  },
  {
   "cell_type": "code",
   "execution_count": 61,
   "metadata": {},
   "outputs": [],
   "source": [
    "def transition(etat):\n",
    "    notEmpty = [[1,0][etat[i]==0] for i in range(25)]\n",
    "    Tpos_arrive = np.multiply(etat,Mu.flatten())\n",
    "    Tpos_depart = np.multiply(np.diag(lambda_).flatten(),notEmpty)\n",
    "\n",
    "    Tpos = Tpos_arrive + Tpos_depart\n",
    "    \n",
    "    return Tpos\n",
    "\n",
    "def saut(etat):\n",
    "    T = transition(etat)\n",
    "    tau = np.sum(T)\n",
    "    choix = np.random.choice(25,p=(T/tau))\n",
    "    depart, arrive = int(choix / 5), int(choix %5)\n",
    "    caseADiminuer = choix\n",
    "    \n",
    "    if depart != arrive :\n",
    "        caseAAugmenter = 6 * arrive\n",
    "    else :\n",
    "        prochaineStat = np.random.choice(5,p=R[depart])\n",
    "        caseAAugmenter = 5 * depart + prochaineStat\n",
    "    return -log(np.random.rand())/tau,caseADiminuer,caseAAugmenter\n",
    "\n",
    "def trajectoire(etat,horizon):\n",
    "    t = 0\n",
    "    Tvide = np.zeros(5)\n",
    "    Evide = np.diag(np.array([[0,1][etat[i]==0] for i in range(25)]).reshape(5,5))\n",
    "   \n",
    "    \n",
    "    while t <= horizon:\n",
    "        duree, caseADiminuer, caseAAugmenter = saut(etat)\n",
    "        etat[caseADiminuer] = etat[caseADiminuer] - 1\n",
    "        etat[caseAAugmenter] = etat[caseAAugmenter] + 1\n",
    "        Tvide = Tvide + min(duree, horizon-t) * Evide\n",
    "        Evide = np.diag(np.array([[0,1][etat[i]==0] for i in range(25)]).reshape(5,5))\n",
    "        t = t + duree\n",
    "\n",
    "    return Tvide/horizon\n",
    "\n",
    "\n",
    "\n"
   ]
  },
  {
   "cell_type": "markdown",
   "metadata": {},
   "source": [
    "## Simulation \n",
    "\n",
    "+ *Einitial* est le vecteur représentant l'état initial\n",
    "+ *Nbiter* le nombre de réalisations\n",
    "+ *Horizon* l'horizon temporel de chaque réalisation"
   ]
  },
  {
   "cell_type": "code",
   "execution_count": 58,
   "metadata": {},
   "outputs": [],
   "source": [
    "def simulation(Einitial,Nbiter,Horizon):\n",
    "    stationsVides=np.empty(5)\n",
    "    for k in np.arange(Nbiter):\n",
    "        stationsVides=np.vstack((stationsVides,trajectoire(Einitial,Horizon)))\n",
    "    print(\"Pourcentage du temps où les stations sont vides\\n\")\n",
    "    for i in np.arange(5):\n",
    "        m=1-np.sum(stationsVides[:,i])/Nbiter\n",
    "        print('Station '+str(i)+' : {:.3f}'.format(m))\n",
    "        v=1.96*np.std(stationsVides[:,i])/np.sqrt(Nbiter)\n",
    "        print('Intervalle de confiance : [{:.3f}'.format(m-v)+', {:.3f}'.format(m+v)+']')\n",
    "        print(\"-------------\\n\")\n"
   ]
  },
  {
   "cell_type": "markdown",
   "metadata": {},
   "source": [
    "## Calcul de la probabilité stationnaire pour 1 vélo\n",
    "\n",
    "Pour valider votre code, rien de tel que de le vérifier sur une situation où l'on peut calculer les quantités intéressantes de façon théorique. Pour $1$ vélo, on doit avoir\n",
    "\\begin{equation*}\n",
    "\\sum_{i=0}^4 \\sum_{j=0}^4 N_{i,j}=1 \n",
    "\\end{equation*}\n",
    "donc l'espace d'états se résume à l'ensemble des vecteurs à 25 composantes où une seule composante est non nulle et vaut $1$, il y a donc 25 états !\n",
    "\n",
    "Vous devez\n",
    "1. construire la matrice 25x25 de transition du système Vélib dans ce cas, noté $P$\n",
    "\n",
    "2. remplacer la dernière colonne de cette matrice par une colonne de 1\n",
    "\n",
    "3. construire le vecteur de taille 25 : $v=(0,\\cdots,0,1)$ \n",
    "4. résoudre $P^t x=v$\n",
    "5. exprimer le pourcentage du temps où la station $i$ est vide en fonction de $x$\n",
    "6. comparer ces valeurs théoriques et exactes à celles données par votre simulation. Tant qu'elles ne coïncident pas, i.e. tant que les valeurs théoriques ne sont pas dans l'intervalle de confiance, c'est que vous avez un problème... \n",
    "\n",
    "\n",
    "_*Pour indication, vous devez trouver comme probabilité stationnaire*_\n",
    "\n",
    "```python\n",
    "array([ 0.17546728,  0.15550435,  0.13452462,  0.15566816,  0.15927423])\n",
    "```\n"
   ]
  },
  {
   "cell_type": "code",
   "execution_count": 63,
   "metadata": {},
   "outputs": [
    {
     "name": "stdout",
     "output_type": "stream",
     "text": [
      "[8124.72802989 8350.8301808  8824.92437167 8588.56209512 8422.55494438]\n",
      "Pourcentage du temps où les stations sont vides\n",
      "\n",
      "Station 0 : 0.188\n",
      "Intervalle de confiance : [-0.609, 0.984]\n",
      "-------------\n",
      "\n",
      "Station 1 : 0.165\n",
      "Intervalle de confiance : [-0.653, 0.983]\n",
      "-------------\n",
      "\n",
      "Station 2 : 0.118\n",
      "Intervalle de confiance : [-0.747, 0.982]\n",
      "-------------\n",
      "\n",
      "Station 3 : 0.141\n",
      "Intervalle de confiance : [-0.701, 0.983]\n",
      "-------------\n",
      "\n",
      "Station 4 : 0.158\n",
      "Intervalle de confiance : [-0.668, 0.983]\n",
      "-------------\n",
      "\n"
     ]
    },
    {
     "name": "stderr",
     "output_type": "stream",
     "text": [
      "/Users/Nina/Documents/DL/anaconda3/lib/python3.6/site-packages/ipykernel_launcher.py:27: DeprecationWarning: In future, it will be an error for 'np.bool_' scalars to be interpreted as an index\n",
      "/Users/Nina/Documents/DL/anaconda3/lib/python3.6/site-packages/ipykernel_launcher.py:2: DeprecationWarning: In future, it will be an error for 'np.bool_' scalars to be interpreted as an index\n",
      "  \n",
      "/Users/Nina/Documents/DL/anaconda3/lib/python3.6/site-packages/ipykernel_launcher.py:35: DeprecationWarning: In future, it will be an error for 'np.bool_' scalars to be interpreted as an index\n"
     ]
    }
   ],
   "source": [
    "# Calcul des probabilités stationnaires pour 1 vélo\n",
    "Einitial=np.zeros(25)\n",
    "Einitial[0]=1\n",
    "simulation(Einitial,1,10000.)\n",
    "\n",
    "# Test de l'accord des valeurs avec Einitial=[1,0,0,...]\n"
   ]
  },
  {
   "cell_type": "markdown",
   "metadata": {},
   "source": [
    "## Calcul pour les données réelles\n",
    "Maintenant, il ne vous reste plus qu'à faire tourner votre programme avec 100 vélos. \n",
    "### Expliquer pourquoi on peut choisir un état de départ quelconque."
   ]
  },
  {
   "cell_type": "code",
   "execution_count": 62,
   "metadata": {
    "slideshow": {
     "slide_type": "-"
    }
   },
   "outputs": [
    {
     "name": "stdout",
     "output_type": "stream",
     "text": [
      "[3. 5. 4. 3. 4. 2. 8. 3. 4. 2. 1. 6. 7. 5. 2. 2. 6. 4. 4. 4. 4. 4. 6. 2.\n",
      " 5.]\n"
     ]
    },
    {
     "name": "stderr",
     "output_type": "stream",
     "text": [
      "/Users/Nina/Documents/DL/anaconda3/lib/python3.6/site-packages/ipykernel_launcher.py:27: DeprecationWarning: In future, it will be an error for 'np.bool_' scalars to be interpreted as an index\n",
      "/Users/Nina/Documents/DL/anaconda3/lib/python3.6/site-packages/ipykernel_launcher.py:2: DeprecationWarning: In future, it will be an error for 'np.bool_' scalars to be interpreted as an index\n",
      "  \n",
      "/Users/Nina/Documents/DL/anaconda3/lib/python3.6/site-packages/ipykernel_launcher.py:35: DeprecationWarning: In future, it will be an error for 'np.bool_' scalars to be interpreted as an index\n"
     ]
    },
    {
     "name": "stdout",
     "output_type": "stream",
     "text": [
      "[   0.            0.         1688.19653017  161.30409904 1047.37789749]\n",
      "Pourcentage du temps où les stations sont vides\n",
      "\n",
      "Station 0 : 1.000\n",
      "Intervalle de confiance : [1.000, 1.000]\n",
      "-------------\n",
      "\n",
      "Station 1 : 1.000\n",
      "Intervalle de confiance : [1.000, 1.000]\n",
      "-------------\n",
      "\n",
      "Station 2 : 0.831\n",
      "Intervalle de confiance : [0.666, 0.997]\n",
      "-------------\n",
      "\n",
      "Station 3 : 0.984\n",
      "Intervalle de confiance : [0.968, 1.000]\n",
      "-------------\n",
      "\n",
      "Station 4 : 0.895\n",
      "Intervalle de confiance : [0.793, 0.998]\n",
      "-------------\n",
      "\n"
     ]
    }
   ],
   "source": [
    "Einitial=np.zeros(25)\n",
    "for i in np.arange(100):\n",
    "    Einitial[np.random.randint(25)]+=1\n",
    "print(Einitial)\n",
    "simulation(Einitial,1,10000.)"
   ]
  },
  {
   "cell_type": "code",
   "execution_count": null,
   "metadata": {},
   "outputs": [],
   "source": []
  }
 ],
 "metadata": {
  "kernelspec": {
   "display_name": "Python 3",
   "language": "python",
   "name": "python3"
  },
  "language_info": {
   "codemirror_mode": {
    "name": "ipython",
    "version": 3
   },
   "file_extension": ".py",
   "mimetype": "text/x-python",
   "name": "python",
   "nbconvert_exporter": "python",
   "pygments_lexer": "ipython3",
   "version": "3.6.4"
  }
 },
 "nbformat": 4,
 "nbformat_minor": 2
}
